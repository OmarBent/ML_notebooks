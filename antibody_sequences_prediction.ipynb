{
  "cells": [
    {
      "cell_type": "markdown",
      "source": [
        "# Antibody sequences prediction\n",
        "\n",
        "This notebook presents a step-by-step solution to design and evaluate a classical Machine Learning model to predict the label of amino acid sequences. It comprises four main sections:\n",
        "\n",
        "\n",
        "1.   Data preprocessing\n",
        "2.   Model training\n",
        "3.   Model evaluation\n",
        "4.   Performance discussion\n",
        "\n",
        "\n",
        "The last cell in section 3 contains a predict function that can be used to score any input sequence(s).\n",
        "\n"
      ],
      "metadata": {
        "id": "ho3t-6nD0cus"
      }
    },
    {
      "cell_type": "markdown",
      "source": [
        "## Data preprocessing\n",
        "\n",
        "We start by loading the data and analyse it in order to understand its characteristics, detect and handle anomalies if they exist, and perform any necessary preprocessing steps."
      ],
      "metadata": {
        "id": "iAvVmc1Jo3RZ"
      }
    },
    {
      "cell_type": "markdown",
      "metadata": {
        "id": "kbcvuuQ4pO-I"
      },
      "source": [
        "### Load the dataset using pandas"
      ]
    },
    {
      "cell_type": "code",
      "execution_count": null,
      "metadata": {
        "colab": {
          "base_uri": "https://localhost:8080/"
        },
        "id": "GAdDBLw5o3dx",
        "outputId": "ab99d1fb-1f83-49e8-e742-0ca0344e7ad0"
      },
      "outputs": [
        {
          "output_type": "stream",
          "name": "stdout",
          "text": [
            "Dataset shape: (2109, 2)\n"
          ]
        }
      ],
      "source": [
        "import pandas as pd\n",
        "\n",
        "data = pd.read_csv(\"dataset.csv\")\n",
        "\n",
        "print(\"Dataset shape:\", data.shape)"
      ]
    },
    {
      "cell_type": "markdown",
      "metadata": {
        "id": "3llHcPJ6pVtW"
      },
      "source": [
        "### Exploratory data analysis\n",
        "Show the first 5 rows"
      ]
    },
    {
      "cell_type": "code",
      "execution_count": null,
      "metadata": {
        "colab": {
          "base_uri": "https://localhost:8080/",
          "height": 206
        },
        "id": "ispNMbUlpOxu",
        "outputId": "0bd92720-311e-49b2-f1d5-04f1b4048fff"
      },
      "outputs": [
        {
          "output_type": "execute_result",
          "data": {
            "text/plain": [
              "                                 amino_acid_sequence  label\n",
              "0  EVRLVESGGGLVQPGGSLRLSCAASGLTFTNYDMSWVRQAPGKGLE...      0\n",
              "1  QIQLQESGPGLLKPSETLSLTCAVSGGSIRSSWGAWIRQPPGKGLE...      0\n",
              "2  QLHLQESGPGLVRPSETLSVTCAVSGVSISSTFWGWIRQAPGKGLE...      0\n",
              "3  QVQLQESGPGLVKPSETLSLTCAVSGGSISDDFYWNWIRQPPGKGL...      0\n",
              "4  QVHLQESGPGLLKPSETLSLTCVVSGGSLRSDWWGWIRQPPGKGLE...      0"
            ],
            "text/html": [
              "\n",
              "  <div id=\"df-54ba9ab3-dc01-4af7-9af7-36bac76fff0b\" class=\"colab-df-container\">\n",
              "    <div>\n",
              "<style scoped>\n",
              "    .dataframe tbody tr th:only-of-type {\n",
              "        vertical-align: middle;\n",
              "    }\n",
              "\n",
              "    .dataframe tbody tr th {\n",
              "        vertical-align: top;\n",
              "    }\n",
              "\n",
              "    .dataframe thead th {\n",
              "        text-align: right;\n",
              "    }\n",
              "</style>\n",
              "<table border=\"1\" class=\"dataframe\">\n",
              "  <thead>\n",
              "    <tr style=\"text-align: right;\">\n",
              "      <th></th>\n",
              "      <th>amino_acid_sequence</th>\n",
              "      <th>label</th>\n",
              "    </tr>\n",
              "  </thead>\n",
              "  <tbody>\n",
              "    <tr>\n",
              "      <th>0</th>\n",
              "      <td>EVRLVESGGGLVQPGGSLRLSCAASGLTFTNYDMSWVRQAPGKGLE...</td>\n",
              "      <td>0</td>\n",
              "    </tr>\n",
              "    <tr>\n",
              "      <th>1</th>\n",
              "      <td>QIQLQESGPGLLKPSETLSLTCAVSGGSIRSSWGAWIRQPPGKGLE...</td>\n",
              "      <td>0</td>\n",
              "    </tr>\n",
              "    <tr>\n",
              "      <th>2</th>\n",
              "      <td>QLHLQESGPGLVRPSETLSVTCAVSGVSISSTFWGWIRQAPGKGLE...</td>\n",
              "      <td>0</td>\n",
              "    </tr>\n",
              "    <tr>\n",
              "      <th>3</th>\n",
              "      <td>QVQLQESGPGLVKPSETLSLTCAVSGGSISDDFYWNWIRQPPGKGL...</td>\n",
              "      <td>0</td>\n",
              "    </tr>\n",
              "    <tr>\n",
              "      <th>4</th>\n",
              "      <td>QVHLQESGPGLLKPSETLSLTCVVSGGSLRSDWWGWIRQPPGKGLE...</td>\n",
              "      <td>0</td>\n",
              "    </tr>\n",
              "  </tbody>\n",
              "</table>\n",
              "</div>\n",
              "    <div class=\"colab-df-buttons\">\n",
              "\n",
              "  <div class=\"colab-df-container\">\n",
              "    <button class=\"colab-df-convert\" onclick=\"convertToInteractive('df-54ba9ab3-dc01-4af7-9af7-36bac76fff0b')\"\n",
              "            title=\"Convert this dataframe to an interactive table.\"\n",
              "            style=\"display:none;\">\n",
              "\n",
              "  <svg xmlns=\"http://www.w3.org/2000/svg\" height=\"24px\" viewBox=\"0 -960 960 960\">\n",
              "    <path d=\"M120-120v-720h720v720H120Zm60-500h600v-160H180v160Zm220 220h160v-160H400v160Zm0 220h160v-160H400v160ZM180-400h160v-160H180v160Zm440 0h160v-160H620v160ZM180-180h160v-160H180v160Zm440 0h160v-160H620v160Z\"/>\n",
              "  </svg>\n",
              "    </button>\n",
              "\n",
              "  <style>\n",
              "    .colab-df-container {\n",
              "      display:flex;\n",
              "      gap: 12px;\n",
              "    }\n",
              "\n",
              "    .colab-df-convert {\n",
              "      background-color: #E8F0FE;\n",
              "      border: none;\n",
              "      border-radius: 50%;\n",
              "      cursor: pointer;\n",
              "      display: none;\n",
              "      fill: #1967D2;\n",
              "      height: 32px;\n",
              "      padding: 0 0 0 0;\n",
              "      width: 32px;\n",
              "    }\n",
              "\n",
              "    .colab-df-convert:hover {\n",
              "      background-color: #E2EBFA;\n",
              "      box-shadow: 0px 1px 2px rgba(60, 64, 67, 0.3), 0px 1px 3px 1px rgba(60, 64, 67, 0.15);\n",
              "      fill: #174EA6;\n",
              "    }\n",
              "\n",
              "    .colab-df-buttons div {\n",
              "      margin-bottom: 4px;\n",
              "    }\n",
              "\n",
              "    [theme=dark] .colab-df-convert {\n",
              "      background-color: #3B4455;\n",
              "      fill: #D2E3FC;\n",
              "    }\n",
              "\n",
              "    [theme=dark] .colab-df-convert:hover {\n",
              "      background-color: #434B5C;\n",
              "      box-shadow: 0px 1px 3px 1px rgba(0, 0, 0, 0.15);\n",
              "      filter: drop-shadow(0px 1px 2px rgba(0, 0, 0, 0.3));\n",
              "      fill: #FFFFFF;\n",
              "    }\n",
              "  </style>\n",
              "\n",
              "    <script>\n",
              "      const buttonEl =\n",
              "        document.querySelector('#df-54ba9ab3-dc01-4af7-9af7-36bac76fff0b button.colab-df-convert');\n",
              "      buttonEl.style.display =\n",
              "        google.colab.kernel.accessAllowed ? 'block' : 'none';\n",
              "\n",
              "      async function convertToInteractive(key) {\n",
              "        const element = document.querySelector('#df-54ba9ab3-dc01-4af7-9af7-36bac76fff0b');\n",
              "        const dataTable =\n",
              "          await google.colab.kernel.invokeFunction('convertToInteractive',\n",
              "                                                    [key], {});\n",
              "        if (!dataTable) return;\n",
              "\n",
              "        const docLinkHtml = 'Like what you see? Visit the ' +\n",
              "          '<a target=\"_blank\" href=https://colab.research.google.com/notebooks/data_table.ipynb>data table notebook</a>'\n",
              "          + ' to learn more about interactive tables.';\n",
              "        element.innerHTML = '';\n",
              "        dataTable['output_type'] = 'display_data';\n",
              "        await google.colab.output.renderOutput(dataTable, element);\n",
              "        const docLink = document.createElement('div');\n",
              "        docLink.innerHTML = docLinkHtml;\n",
              "        element.appendChild(docLink);\n",
              "      }\n",
              "    </script>\n",
              "  </div>\n",
              "\n",
              "\n",
              "<div id=\"df-d0075a1d-e1df-4705-a663-6056ad81e5b8\">\n",
              "  <button class=\"colab-df-quickchart\" onclick=\"quickchart('df-d0075a1d-e1df-4705-a663-6056ad81e5b8')\"\n",
              "            title=\"Suggest charts\"\n",
              "            style=\"display:none;\">\n",
              "\n",
              "<svg xmlns=\"http://www.w3.org/2000/svg\" height=\"24px\"viewBox=\"0 0 24 24\"\n",
              "     width=\"24px\">\n",
              "    <g>\n",
              "        <path d=\"M19 3H5c-1.1 0-2 .9-2 2v14c0 1.1.9 2 2 2h14c1.1 0 2-.9 2-2V5c0-1.1-.9-2-2-2zM9 17H7v-7h2v7zm4 0h-2V7h2v10zm4 0h-2v-4h2v4z\"/>\n",
              "    </g>\n",
              "</svg>\n",
              "  </button>\n",
              "\n",
              "<style>\n",
              "  .colab-df-quickchart {\n",
              "      --bg-color: #E8F0FE;\n",
              "      --fill-color: #1967D2;\n",
              "      --hover-bg-color: #E2EBFA;\n",
              "      --hover-fill-color: #174EA6;\n",
              "      --disabled-fill-color: #AAA;\n",
              "      --disabled-bg-color: #DDD;\n",
              "  }\n",
              "\n",
              "  [theme=dark] .colab-df-quickchart {\n",
              "      --bg-color: #3B4455;\n",
              "      --fill-color: #D2E3FC;\n",
              "      --hover-bg-color: #434B5C;\n",
              "      --hover-fill-color: #FFFFFF;\n",
              "      --disabled-bg-color: #3B4455;\n",
              "      --disabled-fill-color: #666;\n",
              "  }\n",
              "\n",
              "  .colab-df-quickchart {\n",
              "    background-color: var(--bg-color);\n",
              "    border: none;\n",
              "    border-radius: 50%;\n",
              "    cursor: pointer;\n",
              "    display: none;\n",
              "    fill: var(--fill-color);\n",
              "    height: 32px;\n",
              "    padding: 0;\n",
              "    width: 32px;\n",
              "  }\n",
              "\n",
              "  .colab-df-quickchart:hover {\n",
              "    background-color: var(--hover-bg-color);\n",
              "    box-shadow: 0 1px 2px rgba(60, 64, 67, 0.3), 0 1px 3px 1px rgba(60, 64, 67, 0.15);\n",
              "    fill: var(--button-hover-fill-color);\n",
              "  }\n",
              "\n",
              "  .colab-df-quickchart-complete:disabled,\n",
              "  .colab-df-quickchart-complete:disabled:hover {\n",
              "    background-color: var(--disabled-bg-color);\n",
              "    fill: var(--disabled-fill-color);\n",
              "    box-shadow: none;\n",
              "  }\n",
              "\n",
              "  .colab-df-spinner {\n",
              "    border: 2px solid var(--fill-color);\n",
              "    border-color: transparent;\n",
              "    border-bottom-color: var(--fill-color);\n",
              "    animation:\n",
              "      spin 1s steps(1) infinite;\n",
              "  }\n",
              "\n",
              "  @keyframes spin {\n",
              "    0% {\n",
              "      border-color: transparent;\n",
              "      border-bottom-color: var(--fill-color);\n",
              "      border-left-color: var(--fill-color);\n",
              "    }\n",
              "    20% {\n",
              "      border-color: transparent;\n",
              "      border-left-color: var(--fill-color);\n",
              "      border-top-color: var(--fill-color);\n",
              "    }\n",
              "    30% {\n",
              "      border-color: transparent;\n",
              "      border-left-color: var(--fill-color);\n",
              "      border-top-color: var(--fill-color);\n",
              "      border-right-color: var(--fill-color);\n",
              "    }\n",
              "    40% {\n",
              "      border-color: transparent;\n",
              "      border-right-color: var(--fill-color);\n",
              "      border-top-color: var(--fill-color);\n",
              "    }\n",
              "    60% {\n",
              "      border-color: transparent;\n",
              "      border-right-color: var(--fill-color);\n",
              "    }\n",
              "    80% {\n",
              "      border-color: transparent;\n",
              "      border-right-color: var(--fill-color);\n",
              "      border-bottom-color: var(--fill-color);\n",
              "    }\n",
              "    90% {\n",
              "      border-color: transparent;\n",
              "      border-bottom-color: var(--fill-color);\n",
              "    }\n",
              "  }\n",
              "</style>\n",
              "\n",
              "  <script>\n",
              "    async function quickchart(key) {\n",
              "      const quickchartButtonEl =\n",
              "        document.querySelector('#' + key + ' button');\n",
              "      quickchartButtonEl.disabled = true;  // To prevent multiple clicks.\n",
              "      quickchartButtonEl.classList.add('colab-df-spinner');\n",
              "      try {\n",
              "        const charts = await google.colab.kernel.invokeFunction(\n",
              "            'suggestCharts', [key], {});\n",
              "      } catch (error) {\n",
              "        console.error('Error during call to suggestCharts:', error);\n",
              "      }\n",
              "      quickchartButtonEl.classList.remove('colab-df-spinner');\n",
              "      quickchartButtonEl.classList.add('colab-df-quickchart-complete');\n",
              "    }\n",
              "    (() => {\n",
              "      let quickchartButtonEl =\n",
              "        document.querySelector('#df-d0075a1d-e1df-4705-a663-6056ad81e5b8 button');\n",
              "      quickchartButtonEl.style.display =\n",
              "        google.colab.kernel.accessAllowed ? 'block' : 'none';\n",
              "    })();\n",
              "  </script>\n",
              "</div>\n",
              "\n",
              "    </div>\n",
              "  </div>\n"
            ],
            "application/vnd.google.colaboratory.intrinsic+json": {
              "type": "dataframe",
              "variable_name": "data",
              "summary": "{\n  \"name\": \"data\",\n  \"rows\": 2109,\n  \"fields\": [\n    {\n      \"column\": \"amino_acid_sequence\",\n      \"properties\": {\n        \"dtype\": \"string\",\n        \"num_unique_values\": 2109,\n        \"samples\": [\n          \"QVQLVQSGAEVKKPGASVKLSCKASGYTFTSFNVDWVRQAPGQGLEWMGWIDPNNGNTGCAQKFQGRVTMTRDTSTSTAYMQLNSLTSEDPAIYYCAKTLKDWGQGVLVTVSS\",\n          \"QVQLQESGPGLVKPSETLSVTCTVSGDSLTSYWWYWIRQSPGKGLEWIGDINGNSGNTNYNPSLKSRVTMSKDASKNQFTLKLRSATAADTALYYCVMGQVEYLESLFYRFDVWGPGVLVTVSS\",\n          \"QVQLQESGPGLVKPSETLSLTCAVSGGSISGYYWSWIRQPPGKGLEWIGYIGGGSGSTEYNPSLKSRVTISRDTSKNQFSLKLSSVTAADTAVYYCARDPKLGDCSGGVCYASWFDVWGPGVLVTVSS\"\n        ],\n        \"semantic_type\": \"\",\n        \"description\": \"\"\n      }\n    },\n    {\n      \"column\": \"label\",\n      \"properties\": {\n        \"dtype\": \"number\",\n        \"std\": 0,\n        \"min\": 0,\n        \"max\": 1,\n        \"num_unique_values\": 2,\n        \"samples\": [\n          1,\n          0\n        ],\n        \"semantic_type\": \"\",\n        \"description\": \"\"\n      }\n    }\n  ]\n}"
            }
          },
          "metadata": {},
          "execution_count": 147
        }
      ],
      "source": [
        "data.head()"
      ]
    },
    {
      "cell_type": "markdown",
      "source": [
        "Get further information including the total number of sequences and the data types"
      ],
      "metadata": {
        "id": "h8JZ2bFXpsD1"
      }
    },
    {
      "cell_type": "code",
      "execution_count": null,
      "metadata": {
        "colab": {
          "base_uri": "https://localhost:8080/"
        },
        "id": "2Y_mF1DMpc3j",
        "outputId": "e3d6b3be-a4bb-447f-ca70-9f1845c59b2e"
      },
      "outputs": [
        {
          "output_type": "stream",
          "name": "stdout",
          "text": [
            "<class 'pandas.core.frame.DataFrame'>\n",
            "RangeIndex: 2109 entries, 0 to 2108\n",
            "Data columns (total 2 columns):\n",
            " #   Column               Non-Null Count  Dtype \n",
            "---  ------               --------------  ----- \n",
            " 0   amino_acid_sequence  2109 non-null   object\n",
            " 1   label                2109 non-null   int64 \n",
            "dtypes: int64(1), object(1)\n",
            "memory usage: 33.1+ KB\n"
          ]
        }
      ],
      "source": [
        "data.info()"
      ]
    },
    {
      "cell_type": "markdown",
      "source": [
        "Next, count the total number of classes"
      ],
      "metadata": {
        "id": "z_gcpWAwp0lu"
      }
    },
    {
      "cell_type": "code",
      "execution_count": null,
      "metadata": {
        "colab": {
          "base_uri": "https://localhost:8080/"
        },
        "id": "_U0UFVyJpja3",
        "outputId": "60052850-2f57-4a08-eda0-a32fb83a5839"
      },
      "outputs": [
        {
          "output_type": "stream",
          "name": "stdout",
          "text": [
            "Number of classes:  2\n"
          ]
        }
      ],
      "source": [
        "import numpy as np\n",
        "\n",
        "unq_classes = np.unique(data['label'].values)\n",
        "\n",
        "print('Number of classes: ', len(unq_classes))"
      ]
    },
    {
      "cell_type": "markdown",
      "metadata": {
        "id": "ReJGLR7Fp3ps"
      },
      "source": [
        "Count the length of sequences (i.e. number of amino acide per sequence) and plot them in a histogram"
      ]
    },
    {
      "cell_type": "code",
      "execution_count": null,
      "metadata": {
        "colab": {
          "base_uri": "https://localhost:8080/",
          "height": 391
        },
        "id": "Zng72LmLp-ZP",
        "outputId": "69876329-f45c-4334-aab7-6e311449ff50"
      },
      "outputs": [
        {
          "output_type": "display_data",
          "data": {
            "text/plain": [
              "<Figure size 800x400 with 1 Axes>"
            ],
            "image/png": "[encoded data removed]"
          },
          "metadata": {}
        }
      ],
      "source": [
        "import matplotlib.pyplot as plt\n",
        "import seaborn as sns\n",
        "\n",
        "seq_length = data['amino_acid_sequence'].apply(lambda x: len(x))\n",
        "\n",
        "plt.figure(figsize = (8,4))\n",
        "plt.plot()\n",
        "sns.histplot(seq_length.values)\n",
        "plt.title(f'Sequence char count')\n",
        "plt.grid(True)\n",
        "\n",
        "plt.show()"
      ]
    },
    {
      "cell_type": "markdown",
      "source": [
        "**Observation**: most of the sequences have lengths between 110 and 135."
      ],
      "metadata": {
        "id": "CjgjB3K-qEBp"
      }
    },
    {
      "cell_type": "markdown",
      "metadata": {
        "id": "5kkZTXaSquV4"
      },
      "source": [
        "Next, count the total number of amino acid letter codes and their frequencies within the dataset. Then plot these frequencies in a histogram."
      ]
    },
    {
      "cell_type": "code",
      "execution_count": null,
      "metadata": {
        "colab": {
          "base_uri": "https://localhost:8080/",
          "height": 446
        },
        "id": "LbSScOUsqumA",
        "outputId": "8ae691cf-f28c-4dd4-8ecb-b37f5a3092d0"
      },
      "outputs": [
        {
          "output_type": "stream",
          "name": "stdout",
          "text": [
            "Total number of unique codes: 20\n"
          ]
        },
        {
          "output_type": "execute_result",
          "data": {
            "text/plain": [
              "<Axes: title={'center': 'Code frequency'}, xlabel='Code', ylabel='Freq'>"
            ]
          },
          "metadata": {},
          "execution_count": 151
        },
        {
          "output_type": "display_data",
          "data": {
            "text/plain": [
              "<Figure size 600x400 with 1 Axes>"
            ],
            "image/png": "[encoded data removed]"
          },
          "metadata": {}
        }
      ],
      "source": [
        "from collections import Counter\n",
        "\n",
        "seq = data[\"amino_acid_sequence\"].apply(lambda x: \" \".join(x))\n",
        "\n",
        "codes = []\n",
        "for i in seq: # concatination of all codes\n",
        "  codes.extend(i)\n",
        "\n",
        "codes_dict= Counter(codes)\n",
        "codes_dict.pop(' ') # removing white space\n",
        "\n",
        "print(f'Total number of unique codes: {len(codes_dict.keys())}')\n",
        "\n",
        "code_freq = pd.DataFrame({'Code': list(codes_dict.keys()), 'Freq': list(codes_dict.values())})\n",
        "code_freq = code_freq.sort_values('Freq', ascending=False).reset_index()[['Code', 'Freq']]\n",
        "\n",
        "plt.figure(figsize = (6,4))\n",
        "plt.title(f'Code frequency')\n",
        "sns.barplot(x='Code', y='Freq', data=code_freq)"
      ]
    },
    {
      "cell_type": "markdown",
      "metadata": {
        "id": "jrjXwEQSr8aG"
      },
      "source": [
        "Count number of sequences per class"
      ]
    },
    {
      "cell_type": "code",
      "execution_count": null,
      "metadata": {
        "colab": {
          "base_uri": "https://localhost:8080/",
          "height": 459
        },
        "id": "z2ZiDQQir_PZ",
        "outputId": "626f576c-df95-4f87-f903-55f3936d73bb"
      },
      "outputs": [
        {
          "output_type": "display_data",
          "data": {
            "text/plain": [
              "<Figure size 200x400 with 1 Axes>"
            ],
            "image/png": "[encoded data removed]"
          },
          "metadata": {}
        },
        {
          "output_type": "execute_result",
          "data": {
            "text/plain": [
              "label\n",
              "0    1687\n",
              "1     422\n",
              "dtype: int64"
            ]
          },
          "metadata": {},
          "execution_count": 152
        }
      ],
      "source": [
        "label_counts = data[\"label\"].value_counts()\n",
        "temp_df = pd.DataFrame({\n",
        "    \"Label\": label_counts.index,\n",
        "    \"Counts\": label_counts.values\n",
        "})\n",
        "\n",
        "plt.figure(figsize = (2,4))\n",
        "sns.barplot(x = \"Label\", y = \"Counts\", data = temp_df)\n",
        "plt.show()\n",
        "\n",
        "data.groupby('label').size().sort_values(ascending=False)"
      ]
    },
    {
      "cell_type": "markdown",
      "source": [
        "**Observation**: the dataset is clearly imbalanced since class \"0\" significantly outnumbers class \"1\" (1687 >> 422). This can lead to a biased model that performs poorly on the minority class. I will handle the class imbalance in the train set after splitting the dataset."
      ],
      "metadata": {
        "id": "dfTeBjEjrJjl"
      }
    },
    {
      "cell_type": "markdown",
      "metadata": {
        "id": "MqmoyXgCsMHx"
      },
      "source": [
        "### Dataset splitting\n",
        "\n",
        "I will split the dataset into 80:20 format, i.e. 80% will be used for training the model and the remaining 20% will be used to evaluate its performance. Note that in training, I will apply cross-validation on the train set to validate the model and tune the hyperparameters. More details on this will follow in the Model Training section."
      ]
    },
    {
      "cell_type": "code",
      "execution_count": null,
      "metadata": {
        "colab": {
          "base_uri": "https://localhost:8080/"
        },
        "id": "MfJkjOyzsQHO",
        "outputId": "14824520-2e75-484b-e5e6-db704f8f38aa"
      },
      "outputs": [
        {
          "output_type": "stream",
          "name": "stdout",
          "text": [
            "Train set size (1687, 2)\n",
            "Test set size (422, 2)\n"
          ]
        }
      ],
      "source": [
        "from sklearn.model_selection import train_test_split\n",
        "\n",
        "train, test = train_test_split(data, train_size = 0.8, random_state=42, shuffle=True)\n",
        "y_test = test['label']\n",
        "\n",
        "print(\"Train set size\", train.shape)\n",
        "print(\"Test set size\", test.shape)"
      ]
    },
    {
      "cell_type": "markdown",
      "source": [
        "Check class imbalance in the train set"
      ],
      "metadata": {
        "id": "1osvjWeWuM5f"
      }
    },
    {
      "cell_type": "code",
      "execution_count": null,
      "metadata": {
        "colab": {
          "base_uri": "https://localhost:8080/"
        },
        "id": "tx6c2aT6J2gt",
        "outputId": "57c79efc-a770-49d0-b93d-156cb9314713"
      },
      "outputs": [
        {
          "output_type": "execute_result",
          "data": {
            "text/plain": [
              "label\n",
              "0    1351\n",
              "1     336\n",
              "dtype: int64"
            ]
          },
          "metadata": {},
          "execution_count": 154
        }
      ],
      "source": [
        "train.groupby('label').size().sort_values(ascending=False)"
      ]
    },
    {
      "cell_type": "markdown",
      "metadata": {
        "id": "8NNIy1CW5cQw"
      },
      "source": [
        "### Handling class imbalance\n",
        "\n",
        "As mentioned above, to obtain a more robust model, it is important to address the class imbalance. Below I apply Random Upsampling on the train set which is a simple and straightforward approach to augment the minority class. This is done by duplicating random instances from it until it is balanced with the majority class."
      ]
    },
    {
      "cell_type": "code",
      "execution_count": null,
      "metadata": {
        "id": "ls_DXjR-5a_d",
        "colab": {
          "base_uri": "https://localhost:8080/"
        },
        "outputId": "41ff4913-f2d9-480d-bef4-fdd5e0ab0222"
      },
      "outputs": [
        {
          "output_type": "execute_result",
          "data": {
            "text/plain": [
              "label\n",
              "0    1351\n",
              "1    1351\n",
              "dtype: int64"
            ]
          },
          "metadata": {},
          "execution_count": 155
        }
      ],
      "source": [
        "from sklearn.utils import resample\n",
        "\n",
        "minority_class = train[train['label'] == 1]\n",
        "majority_class = train[train['label'] == 0]\n",
        "\n",
        "# Upsample the minority class\n",
        "minority_upsampled = resample(minority_class, replace=True, n_samples=len(majority_class), random_state=42)\n",
        "\n",
        "# Merge the upsampled minority class with the majority class\n",
        "balanced_train = pd.concat([majority_class, minority_upsampled])\n",
        "\n",
        "# Get the labels\n",
        "y_train = balanced_train['label']\n",
        "\n",
        "# Ensure that the train set is now balanced\n",
        "balanced_train.groupby('label').size().sort_values(ascending=False)"
      ]
    },
    {
      "cell_type": "markdown",
      "metadata": {
        "id": "-X7ZwNFcshI1"
      },
      "source": [
        "### Text preprocessing\n",
        "\n",
        "Amino acid sequences are represented as strings of amino acids (letter codes) in a particular order. To build a machine learning model, this textual data needs to be transformed into a numerical format that can be processed by the machine. Further, these sequences have different lengths which is not suitable for a ML model. To address these two issues, I will apply an encoding which transforms each amino acid code into an integer. Then I will pad the sequences to the same length.\n",
        "\n",
        "Below I create a dictionary of the 20 amino acids present in the dataset, each with its corresponding integer value. The dictionary will then be used for integer encoding."
      ]
    },
    {
      "cell_type": "code",
      "execution_count": null,
      "metadata": {
        "colab": {
          "base_uri": "https://localhost:8080/"
        },
        "id": "zytWpjwdsiZw",
        "outputId": "e911d346-e93a-4e1f-c5b9-aa9a90471301"
      },
      "outputs": [
        {
          "output_type": "stream",
          "name": "stdout",
          "text": [
            "{'S': 1, 'G': 2, 'V': 3, 'L': 4, 'T': 5, 'A': 6, 'Y': 7, 'D': 8, 'R': 9, 'Q': 10, 'K': 11, 'E': 12, 'P': 13, 'W': 14, 'I': 15, 'N': 16, 'F': 17, 'C': 18, 'M': 19, 'H': 20}\n",
            "Dictionary length: 20\n"
          ]
        }
      ],
      "source": [
        "codes = ['S', 'G', 'V', 'L', 'T', 'A', 'Y', 'D', 'R', 'Q',\n",
        "         'K', 'E', 'P', 'W', 'I', 'N', 'F', 'C', 'M', 'H']\n",
        "\n",
        "def create_dict(codes):\n",
        "  code_dict = {}\n",
        "  for index, val in enumerate(codes):\n",
        "    code_dict[val] = index+1\n",
        "\n",
        "  return code_dict\n",
        "\n",
        "code_dict = create_dict(codes)\n",
        "\n",
        "print(code_dict)\n",
        "print(\"Dictionary length:\", len(code_dict))"
      ]
    },
    {
      "cell_type": "code",
      "execution_count": null,
      "metadata": {
        "id": "MvQykA72sq1-"
      },
      "outputs": [],
      "source": [
        "def integer_encoding(data):\n",
        "  \"\"\"\n",
        "    Encodes code sequence to integer values.\n",
        "  \"\"\"\n",
        "\n",
        "  encode_list = []\n",
        "  for row in data['amino_acid_sequence'].values:\n",
        "    row_encode = []\n",
        "    for code in row:\n",
        "      row_encode.append(code_dict.get(code, 0))\n",
        "    encode_list.append(np.array(row_encode))\n",
        "\n",
        "  return encode_list"
      ]
    },
    {
      "cell_type": "markdown",
      "source": [
        "Encode the train and test sets"
      ],
      "metadata": {
        "id": "yh03xESe9Clb"
      }
    },
    {
      "cell_type": "code",
      "execution_count": null,
      "metadata": {
        "id": "zrQDR-uGsubc"
      },
      "outputs": [],
      "source": [
        "train_encode = integer_encoding(balanced_train)\n",
        "test_encode = integer_encoding(test)"
      ]
    },
    {
      "cell_type": "markdown",
      "metadata": {
        "id": "CH31dhots-zy"
      },
      "source": [
        "### Sequence padding\n",
        "\n",
        "As observed in the histogram of sequence lengths, the big majority of the sequences are of length between 110 and 135. I will pick a value from this interval (i.e. 130) and define it as the maximum length to pad the sequences."
      ]
    },
    {
      "cell_type": "code",
      "execution_count": null,
      "metadata": {
        "colab": {
          "base_uri": "https://localhost:8080/"
        },
        "id": "kzgoxlZssyUR",
        "outputId": "ddabe503-d007-46d6-bbbe-fd1323ee6a3b"
      },
      "outputs": [
        {
          "output_type": "execute_result",
          "data": {
            "text/plain": [
              "((2702, 130), (422, 130))"
            ]
          },
          "metadata": {},
          "execution_count": 159
        }
      ],
      "source": [
        "from keras.preprocessing.sequence import pad_sequences\n",
        "\n",
        "max_length = 130\n",
        "\n",
        "train_pad = pad_sequences(train_encode, maxlen=max_length, padding='post', truncating='post')\n",
        "test_pad = pad_sequences(test_encode, maxlen=max_length, padding='post', truncating='post')\n",
        "\n",
        "train_pad.shape, test_pad.shape"
      ]
    },
    {
      "cell_type": "markdown",
      "source": [
        "## Model training\n",
        "\n",
        "I will use two of the most widely used machine learning classifiers: **Random Forest** and **XGBoost**. They are both powerful tree-based ensemble-learning models which differ in their algorithmic techniques. Generally, their relative performance can vary depending on the task (dataset) at hand. Therefore I chose to train and evaluate both of them.\n",
        "\n",
        "To validate the models and tune their hyperparameters, I will use K-Fold cross-validation where the train set is split into k subsets, then training of the model is performed on the k-1 subsets and the remaining one subset is used to evaluate its performance. For hyperparameters search, I will apply **Grid Search** which guarantees finding the optimal hyperparameters (among predefined candidates)."
      ],
      "metadata": {
        "id": "VOzcqENv4QUW"
      }
    },
    {
      "cell_type": "markdown",
      "metadata": {
        "id": "NrUtraNzt9k8"
      },
      "source": [
        "### Training a Random Forest classifier\n",
        "\n",
        "The following cell performs hyperparameters tuning with Grid Search. Uncomment the last two lines if you would like to run it, but note that this step is too slow. Otherwise you can skip it and run the cell after which uses the parameters I tuned."
      ]
    },
    {
      "cell_type": "code",
      "execution_count": null,
      "metadata": {
        "id": "TGg4VOVfyIf2"
      },
      "outputs": [],
      "source": [
        "from sklearn.ensemble import RandomForestClassifier\n",
        "from sklearn.model_selection import GridSearchCV, KFold\n",
        "\n",
        "\n",
        "cv_split = KFold(n_splits=10, random_state=42, shuffle=True)\n",
        "\n",
        "# Hyperparameters to be tuned\n",
        "rf_hyperparam_grid={\n",
        "    \"n_estimators\": [500, 1000, 1500],\n",
        "    \"min_samples_leaf\": [1, 2, 5],\n",
        "    \"min_samples_split\": [2, 3, 5],\n",
        "    \"criterion\": [\"gini\"],\n",
        "    \"max_depth\": [None]\n",
        "}\n",
        "\n",
        "grid_search_model = RandomForestClassifier(random_state=42)\n",
        "\n",
        "rf_grid_search=GridSearchCV(\n",
        "    estimator=grid_search_model,\n",
        "    param_grid=rf_hyperparam_grid,\n",
        "    scoring=\"accuracy\",\n",
        "    refit=True,\n",
        "    return_train_score=True,\n",
        "    cv=cv_split,\n",
        "    verbose=10,\n",
        "    n_jobs=-1,\n",
        ")\n",
        "\n",
        "#%time tuned_model = rf_grid_search.fit(train_pad, y_train)\n",
        "#print(\"Optimal parameters: \", tuned_model.best_params_)\n",
        "#print(\"Validation scores: \", tuned_model.cv_results_)"
      ]
    },
    {
      "cell_type": "code",
      "execution_count": null,
      "metadata": {
        "colab": {
          "base_uri": "https://localhost:8080/"
        },
        "id": "qY58OZYet9-b",
        "outputId": "bb7687c8-a222-4b29-9e01-cd4859bfb83c"
      },
      "outputs": [
        {
          "output_type": "stream",
          "name": "stdout",
          "text": [
            "Random Forest Train accuracy : 100.00\n"
          ]
        }
      ],
      "source": [
        "rf_model = RandomForestClassifier(n_estimators=1000,\n",
        "                                  min_samples_leaf=1,\n",
        "                                  min_samples_split=2,\n",
        "                                  random_state=666)\n",
        "rf_model.fit(train_pad, y_train)\n",
        "\n",
        "rf_train_accuracy = rf_model.score(train_pad, y_train) * 100\n",
        "print('Random Forest Train accuracy : {0:0.2f}'. format(rf_train_accuracy))"
      ]
    },
    {
      "cell_type": "markdown",
      "metadata": {
        "id": "j1fyEeNCwfpE"
      },
      "source": [
        "### Training XGBoost classifier\n",
        "\n",
        "Similarly to the previous model, uncomment the last two lines of the cell below to tune XGBoost's hyperparameters. Otherwise run the cell after to fit it with parameters I tuned."
      ]
    },
    {
      "cell_type": "code",
      "execution_count": null,
      "metadata": {
        "id": "nqQ3suw0w7m-"
      },
      "outputs": [],
      "source": [
        "from xgboost import XGBClassifier\n",
        "\n",
        "# Hyperparameters to be tuned\n",
        "parameters = [{'n_estimators': [500, 1000, 1500],\n",
        "               'reg_lambda': [0.15, 0.16, 0.17, 0.18],\n",
        "               'max_depth':[None]}]\n",
        "\n",
        "xgboost_model = XGBClassifier(random_state=42)\n",
        "\n",
        "grid_search = GridSearchCV(estimator = xgboost_model,\n",
        "                           param_grid = parameters,\n",
        "                           scoring = 'accuracy',\n",
        "                           cv = cv_split,\n",
        "                           n_jobs = -1)\n",
        "\n",
        "#grid_search = grid_search.fit(train_pad, y_train)\n",
        "#print(\"best_parameters = {}\".format(grid_search.best_params_))"
      ]
    },
    {
      "cell_type": "code",
      "execution_count": null,
      "metadata": {
        "colab": {
          "base_uri": "https://localhost:8080/"
        },
        "id": "_atzHpUXwjIT",
        "outputId": "6d67d70b-d412-4e02-d0b8-8cb71f43070d"
      },
      "outputs": [
        {
          "output_type": "stream",
          "name": "stdout",
          "text": [
            "XGBoost Train accuracy : 100.00\n"
          ]
        }
      ],
      "source": [
        "xgboost_model = XGBClassifier(n_estimators=500,\n",
        "                              reg_lambda=0.16,\n",
        "                              random_state=666)\n",
        "xgboost_model.fit(train_pad, y_train)\n",
        "\n",
        "xgboost_train_accuracy = xgboost_model.score(train_pad, y_train) * 100\n",
        "\n",
        "print('XGBoost Train accuracy : {0:0.2f}'. format(xgboost_train_accuracy))"
      ]
    },
    {
      "cell_type": "markdown",
      "source": [
        "## Model evaluation"
      ],
      "metadata": {
        "id": "PlzM1dMQ1j7T"
      }
    },
    {
      "cell_type": "markdown",
      "source": [
        "After training the models, I will evaluate them using the unseen test data. In addition, to have further insights on the model performance, I will plot confusion matrices and calculate other classification metrics: precision, recall and F1-score. Finally, I will run a baseline experiment to evaluate the effect of the data augmentation step (i.e. dataset balancing). These results will be then discussed in the last section of this notebook."
      ],
      "metadata": {
        "id": "GcyrhbZZ8w8l"
      }
    },
    {
      "cell_type": "code",
      "source": [
        "# Evaluate the random forest model using test data\n",
        "rf_test_accuracy = rf_model.score(test_pad, y_test) * 100\n",
        "\n",
        "# Evaluate the XGBoost model\n",
        "xgboost_test_accuracy = xgboost_model.score(test_pad, y_test) * 100"
      ],
      "metadata": {
        "id": "K2dyPmcl1mG-"
      },
      "execution_count": null,
      "outputs": []
    },
    {
      "cell_type": "markdown",
      "source": [
        "Next, summarize results in a table (Table 1 for reference)."
      ],
      "metadata": {
        "id": "imnctVwH-1R8"
      }
    },
    {
      "cell_type": "code",
      "source": [
        "from prettytable import PrettyTable\n",
        "\n",
        "tab1 = PrettyTable()\n",
        "tab1.field_names = ['Model', 'Train accuracy', 'Test accuracy']\n",
        "\n",
        "tab1.add_row(['Random Forest', '{0:0.2f}'.format(rf_train_accuracy), '{0:0.2f}'.format(rf_test_accuracy)])\n",
        "tab1.add_row(['XGBoost', '{0:0.2f}'.format(xgboost_train_accuracy), '{0:0.2f}'.format(xgboost_test_accuracy)])\n",
        "\n",
        "print(\"Table 1:\")\n",
        "print(tab1)"
      ],
      "metadata": {
        "colab": {
          "base_uri": "https://localhost:8080/"
        },
        "id": "xrzTHiGXw3Pz",
        "outputId": "6e701b61-1563-4603-96d1-f35e85f4d57d"
      },
      "execution_count": null,
      "outputs": [
        {
          "output_type": "stream",
          "name": "stdout",
          "text": [
            "Table 1:\n",
            "+---------------+----------------+---------------+\n",
            "|     Model     | Train accuracy | Test accuracy |\n",
            "+---------------+----------------+---------------+\n",
            "| Random Forest |     100.00     |     93.60     |\n",
            "|    XGBoost    |     100.00     |     93.36     |\n",
            "+---------------+----------------+---------------+\n"
          ]
        }
      ]
    },
    {
      "cell_type": "markdown",
      "source": [
        "Next, plot confusion matrices as well as more evaluation metrics (precision, recall and F1-scores) for each of the models."
      ],
      "metadata": {
        "id": "JLRf-BWD_FwY"
      }
    },
    {
      "cell_type": "code",
      "execution_count": null,
      "metadata": {
        "id": "VPR5nznxyUtr"
      },
      "outputs": [],
      "source": [
        "def plot_cnf_matrix(cnf_matrix):\n",
        "\n",
        "    #Plot the Confusion Matrix\n",
        "    class_names=[0, 1]\n",
        "    plt.figure(figsize = (4,4))\n",
        "    tick_marks = np.arange(len(class_names))\n",
        "    plt.xticks(tick_marks, class_names)\n",
        "    plt.yticks(tick_marks, class_names)\n",
        "\n",
        "    # create heatmap\n",
        "    sns.heatmap(pd.DataFrame(cnf_matrix), annot=True, cmap=\"YlGnBu\" ,fmt='g')\n",
        "    plt.tight_layout()\n",
        "    plt.title('Confusion matrix', y=1.1)\n",
        "    plt.xlabel(\"Predicted Label\")\n",
        "    plt.ylabel('Actual label')"
      ]
    },
    {
      "cell_type": "markdown",
      "source": [
        "Random Forest evaluation"
      ],
      "metadata": {
        "id": "b4T51uDC_vk5"
      }
    },
    {
      "cell_type": "code",
      "source": [
        "from sklearn.metrics import classification_report, confusion_matrix\n",
        "\n",
        "rf_predicted_test = rf_model.predict(test_pad)\n",
        "\n",
        "cnf_matrix_rf = confusion_matrix(y_test, rf_predicted_test)\n",
        "\n",
        "print(classification_report(rf_predicted_test, y_test))\n",
        "plot_cnf_matrix(cnf_matrix_rf)"
      ],
      "metadata": {
        "colab": {
          "base_uri": "https://localhost:8080/",
          "height": 644
        },
        "id": "m4WwryJ2zw1D",
        "outputId": "d8d1c2fc-486d-44a6-81c2-ed6e49370bce"
      },
      "execution_count": null,
      "outputs": [
        {
          "output_type": "stream",
          "name": "stdout",
          "text": [
            "              precision    recall  f1-score   support\n",
            "\n",
            "           0       0.99      0.94      0.96       355\n",
            "           1       0.73      0.94      0.82        67\n",
            "\n",
            "    accuracy                           0.94       422\n",
            "   macro avg       0.86      0.94      0.89       422\n",
            "weighted avg       0.95      0.94      0.94       422\n",
            "\n"
          ]
        },
        {
          "output_type": "display_data",
          "data": {
            "text/plain": [
              "<Figure size 400x400 with 2 Axes>"
            ],
            "image/png": "[encoded data removed]"
          },
          "metadata": {}
        }
      ]
    },
    {
      "cell_type": "markdown",
      "source": [
        "XGBoost evaluation"
      ],
      "metadata": {
        "id": "rDQXPssZ_yjz"
      }
    },
    {
      "cell_type": "code",
      "source": [
        "xgboost_predicted_test = xgboost_model.predict(test_pad)\n",
        "\n",
        "cnf_matrix_xgboost = confusion_matrix(y_test, xgboost_predicted_test)\n",
        "\n",
        "print(classification_report(xgboost_predicted_test, y_test))\n",
        "plot_cnf_matrix(cnf_matrix_xgboost)"
      ],
      "metadata": {
        "colab": {
          "base_uri": "https://localhost:8080/",
          "height": 644
        },
        "id": "dJdrjvWlz6po",
        "outputId": "fdd69b22-470a-4e91-e9ce-0b1f69f6bb5b"
      },
      "execution_count": null,
      "outputs": [
        {
          "output_type": "stream",
          "name": "stdout",
          "text": [
            "              precision    recall  f1-score   support\n",
            "\n",
            "           0       0.98      0.94      0.96       352\n",
            "           1       0.74      0.91      0.82        70\n",
            "\n",
            "    accuracy                           0.93       422\n",
            "   macro avg       0.86      0.93      0.89       422\n",
            "weighted avg       0.94      0.93      0.94       422\n",
            "\n"
          ]
        },
        {
          "output_type": "display_data",
          "data": {
            "text/plain": [
              "<Figure size 400x400 with 2 Axes>"
            ],
            "image/png": "[encoded data removed]"
          },
          "metadata": {}
        }
      ]
    },
    {
      "cell_type": "markdown",
      "source": [
        "**Baseline experiment:** here I will evaluate the effect of data augmentation on classification accuracy. I will pick the best performing model (i.e. Random Forest) and retrain it using the imbalanced train set. I will then evaluate it on the test set and compare the accuracies against the previously obtained result.  "
      ],
      "metadata": {
        "id": "5mZDdCfd5b6N"
      }
    },
    {
      "cell_type": "code",
      "source": [
        "# Preprocess (encode) training data\n",
        "imb_train_encode = integer_encoding(train)\n",
        "imb_train_pad = pad_sequences(imb_train_encode, maxlen=max_length, padding='post', truncating='post')\n",
        "y_train_imb = train['label']\n",
        "\n",
        "# Fit a RF model using imbalanced data\n",
        "rf_model_imb = RandomForestClassifier(n_estimators=1000, random_state=666)\n",
        "rf_model_imb.fit(imb_train_pad, y_train_imb)\n",
        "\n",
        "# Train accuracy\n",
        "rf_imb_train_accuracy = rf_model_imb.score(imb_train_pad, y_train_imb) * 100\n",
        "\n",
        "# Test accuracy\n",
        "rf_imb_test_accuracy = rf_model_imb.score(test_pad, y_test) * 100\n",
        "\n",
        "\n",
        "# Show a summary of results in a table (Table 2 for reference)\n",
        "tab2 = PrettyTable()\n",
        "tab2.field_names = ['Dataset type', 'RF Train accuracy', 'RF Test accuracy']\n",
        "\n",
        "tab2.add_row(['Imbalanced', '{0:0.2f}'.format(rf_imb_train_accuracy), '{0:0.2f}'.format(rf_imb_test_accuracy)])\n",
        "tab2.add_row(['Balanced', '{0:0.2f}'.format(rf_train_accuracy), '{0:0.2f}'.format(rf_test_accuracy)])\n",
        "\n",
        "print(\"Table 2:\")\n",
        "print(tab2)"
      ],
      "metadata": {
        "colab": {
          "base_uri": "https://localhost:8080/"
        },
        "id": "KOwpqyJe5bCC",
        "outputId": "f2690b4f-4179-4eb3-af03-a40d8ea8578e"
      },
      "execution_count": null,
      "outputs": [
        {
          "output_type": "stream",
          "name": "stdout",
          "text": [
            "Table 2:\n",
            "+--------------+-------------------+------------------+\n",
            "| Dataset type | RF Train accuracy | RF Test accuracy |\n",
            "+--------------+-------------------+------------------+\n",
            "|  Imbalanced  |       100.00      |      92.42       |\n",
            "|   Balanced   |       100.00      |      93.60       |\n",
            "+--------------+-------------------+------------------+\n"
          ]
        }
      ]
    },
    {
      "cell_type": "markdown",
      "source": [
        "### Prediction function\n",
        "\n",
        "The following cell can be used to score any input sequence(s). The best performing model (Random Forest) will be used.\n",
        "\n",
        "\"input_seq\" takes a list of amino acid sequences. You can update it with your input if you would like to make a prediction."
      ],
      "metadata": {
        "id": "AoCWQj7u1PtS"
      }
    },
    {
      "cell_type": "code",
      "source": [
        "input_seq = [\"EVRLVESGGGLVQPGGSLRLSCAASGLTFTNYDMSWVRQAPGKGLEWVAHISFTGKTIYYADSVKGRFSISRDNANNSVSLQMNSLRAEDTAVYFCTRDLTMVATVYGLDSWGQGVVVIVSS\"]\n",
        "\n",
        "def predict_input(input, rf_model):\n",
        "\n",
        "  test_encode = integer_encoding_2(input)\n",
        "  test_pad = pad_sequences(test_encode, maxlen=max_length, padding='post', truncating='post')\n",
        "  rf_pred = rf_model.predict(test_pad)\n",
        "\n",
        "  return rf_pred\n",
        "\n",
        "def integer_encoding_2(data):\n",
        "  \"\"\"\n",
        "    Encodes code sequences to integer values.\n",
        "  \"\"\"\n",
        "\n",
        "  encode_list = []\n",
        "  for row in data:\n",
        "    row_encode = []\n",
        "    for code in row:\n",
        "      row_encode.append(code_dict.get(code, 0))\n",
        "    encode_list.append(np.array(row_encode))\n",
        "\n",
        "  return encode_list\n",
        "\n",
        "res = predict_input(input_seq, rf_model)\n",
        "print(\"Output labels:\", res)"
      ],
      "metadata": {
        "colab": {
          "base_uri": "https://localhost:8080/"
        },
        "id": "8h7rk4Iq1vf_",
        "outputId": "a5c12fff-be7b-4a61-e751-d6ad783db5ae"
      },
      "execution_count": null,
      "outputs": [
        {
          "output_type": "stream",
          "name": "stdout",
          "text": [
            "Output labels: [0]\n"
          ]
        }
      ]
    },
    {
      "cell_type": "markdown",
      "source": [
        "## Performance discussion\n",
        "\n",
        "The training accuracy has reached 100% for both models and the mean cross- validation accuracy was around 99%. This tells us that the models fitted the training data very well and they were able to generalise to the validation subsets (i.e. no overfitting). Now from Table 1, we can observe that the performance on unseen (test) data has surpassed 93% for both models, which is quite promising. Also Random Forest has slightly outperformed XGBoost by 0.24%. For this reason, I will focus only on Random Forest results in the rest of the discussion.\n",
        "\n",
        "The question to address now is why has the model failed to classify the remaining 6.4%? To answer it, we can firstly look at the confusion matrix where it is clearly seen that most of the misclassified samples (23 samples) belong to class \"1\", whereas only 4 samples from class \"0\" were misclassified. This observation can be confirmed by looking at the precision and F1-scores which are significantly lower for class \"1\" (precision is 0.74 for class \"1\" compared to 0.98 for class \"0\"). By these observations, we can conclude that the fitted model is slightly biased since it has learnt to classify class \"0\" better than the other class. This can be explained by the dataset imbalance that we have observed during the exploratory data analysis. In fact class \"0\" significantly outnumbers class \"1\" (1687 >> 422), and despite balancing the dataset by applying Random Upsampling, the bias still persists.\n",
        "\n",
        "Finally, did this Random Upsampling improve the model performance? I have performed a baseline experiment to answer this question where I trained a Random Forest classifier using the initial imbalanced data, then I tested it on the same test set. Table 2 shows that indeed, there is an improvement of 1.18% thanks to this augmentation. However, it is still not enough to avoid the bias in the model. A better solution I would suggest here is to collect more data belonging to the minority class, or else apply more sophisticated data augmentation techniques which are based on deep learning generative models such as GANs or VAEs. Unlike Random Upsampling, these will not duplicate existing samples but they will generate new samples, hence increasing the variability within the dataset.  \n"
      ],
      "metadata": {
        "id": "DED61Bie4Krj"
      }
    }
  ],
  "metadata": {
    "colab": {
      "provenance": []
    },
    "kernelspec": {
      "display_name": "Python 3",
      "name": "python3"
    },
    "language_info": {
      "name": "python"
    }
  },
  "nbformat": 4,
  "nbformat_minor": 0
}