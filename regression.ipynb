{
  "nbformat": 4,
  "nbformat_minor": 0,
  "metadata": {
    "colab": {
      "provenance": []
    },
    "kernelspec": {
      "name": "python3",
      "display_name": "Python 3"
    },
    "language_info": {
      "name": "python"
    }
  },
  "cells": [
    {
      "cell_type": "markdown",
      "source": [
        "## Price prediction with linear and ridge regression, Random Forest regressor, SVM regressor\n",
        "\n",
        "This notebook presents a solution to the [price prediction](https://www.hackerearth.com/practice/machine-learning/machine-learning-algorithms/beginners-guide-regression-analysis-plot-interpretations/practice-problems/machine-learning/predict-the-price-5-fe7f8735/) Hackerrank problem.\n",
        "\n",
        "It contains two main sections:\n",
        "\n",
        "\n",
        "1.   Exploratory data analysis and pre-processing\n",
        "2.   Models fitting and evaluation\n",
        "\n"
      ],
      "metadata": {
        "id": "mYUzJ70oFWEq"
      }
    },
    {
      "cell_type": "markdown",
      "source": [
        "## Exploratory data analysis"
      ],
      "metadata": {
        "id": "LVcMpz5V9zZt"
      }
    },
    {
      "cell_type": "code",
      "execution_count": null,
      "metadata": {
        "colab": {
          "base_uri": "https://localhost:8080/"
        },
        "id": "NtFf0KrxKbov",
        "outputId": "c0760a08-0dfb-485b-da38-1d87c5c03f74"
      },
      "outputs": [
        {
          "output_type": "stream",
          "name": "stdout",
          "text": [
            "Train data shape: (6368, 15)\n",
            "Test data shape: (3430, 14)\n"
          ]
        }
      ],
      "source": [
        "import pandas as pd\n",
        "\n",
        "train = pd.read_csv(\"train.csv\")\n",
        "test = pd.read_csv(\"test.csv\")\n",
        "\n",
        "\n",
        "print(\"Train data shape:\", train.shape)\n",
        "print(\"Test data shape:\", test.shape)"
      ]
    },
    {
      "cell_type": "markdown",
      "source": [
        "### Remove negative values of selling prices"
      ],
      "metadata": {
        "id": "K5ira1_799qe"
      }
    },
    {
      "cell_type": "code",
      "source": [
        "train = train[train[\"Selling_Price\"] > 0]"
      ],
      "metadata": {
        "id": "rWIYwTKjwq7K"
      },
      "execution_count": null,
      "outputs": []
    },
    {
      "cell_type": "markdown",
      "source": [
        "### Converting Loyalty_customer and Product_Category to categorical dtype"
      ],
      "metadata": {
        "id": "niJCPAqu-G11"
      }
    },
    {
      "cell_type": "code",
      "source": [
        "train.Loyalty_customer = train.Loyalty_customer.astype(\"category\")\n",
        "train.Product_Category = train.Product_Category.astype(\"category\")\n",
        "\n",
        "\n",
        "test.Loyalty_customer = test.Loyalty_customer.astype(\"category\")\n",
        "test.Product_Category = test.Product_Category.astype(\"category\")"
      ],
      "metadata": {
        "id": "0KAEvLGFWtSj"
      },
      "execution_count": null,
      "outputs": []
    },
    {
      "cell_type": "markdown",
      "source": [
        "### Drop irrelevant columns"
      ],
      "metadata": {
        "id": "CtWNVIiy_MQl"
      }
    },
    {
      "cell_type": "code",
      "source": [
        "columns = [\"Product_id\", \"instock_date\", \"Stall_no\", \"Customer_name\"]\n",
        "train = train.drop(columns=columns)"
      ],
      "metadata": {
        "id": "2ZbIVODaV1jf"
      },
      "execution_count": null,
      "outputs": []
    },
    {
      "cell_type": "markdown",
      "source": [
        "### Look at correlation"
      ],
      "metadata": {
        "id": "6pm8kJEg-9O7"
      }
    },
    {
      "cell_type": "code",
      "source": [
        "train.corr()"
      ],
      "metadata": {
        "id": "tj7Poutk-x0b"
      },
      "execution_count": null,
      "outputs": []
    },
    {
      "cell_type": "markdown",
      "source": [
        "Drop observations with nans"
      ],
      "metadata": {
        "id": "O4SqNdyb_SNd"
      }
    },
    {
      "cell_type": "code",
      "source": [
        "train.isna().sum()"
      ],
      "metadata": {
        "colab": {
          "base_uri": "https://localhost:8080/"
        },
        "id": "0sMf8KG9XbqF",
        "outputId": "8567e2f8-608d-41f7-a3ee-45cc8d345f6f"
      },
      "execution_count": null,
      "outputs": [
        {
          "output_type": "execute_result",
          "data": {
            "text/plain": [
              "Market_Category       0\n",
              "Loyalty_customer      0\n",
              "Product_Category      0\n",
              "Grade                 0\n",
              "Demand                0\n",
              "Discount_avail       37\n",
              "charges_1           197\n",
              "charges_2 (%)       204\n",
              "Minimum_price        38\n",
              "Maximum_price       340\n",
              "Selling_Price         0\n",
              "dtype: int64"
            ]
          },
          "metadata": {},
          "execution_count": 18
        }
      ]
    },
    {
      "cell_type": "code",
      "source": [
        "train = train.dropna()\n",
        "train.shape"
      ],
      "metadata": {
        "colab": {
          "base_uri": "https://localhost:8080/"
        },
        "id": "bGP1X3cBXq2H",
        "outputId": "ebc641bd-8a5b-4d48-944e-f176ce7dace4"
      },
      "execution_count": null,
      "outputs": [
        {
          "output_type": "execute_result",
          "data": {
            "text/plain": [
              "(5562, 11)"
            ]
          },
          "metadata": {},
          "execution_count": 19
        }
      ]
    },
    {
      "cell_type": "code",
      "source": [
        "train = pd.get_dummies(train, columns = [\"Grade\", \"Product_Category\", \"Loyalty_customer\"], drop_first = True)"
      ],
      "metadata": {
        "id": "3294nxpOYbsg"
      },
      "execution_count": null,
      "outputs": []
    },
    {
      "cell_type": "code",
      "source": [
        "test = pd.get_dummies(test, columns = [\"Grade\", \"Product_Category\", \"Loyalty_customer\"], drop_first = True)"
      ],
      "metadata": {
        "id": "QuW4nLi3Ye3s"
      },
      "execution_count": null,
      "outputs": []
    },
    {
      "cell_type": "markdown",
      "source": [
        "### Train validation splitting"
      ],
      "metadata": {
        "id": "k4E6RNHd_c5t"
      }
    },
    {
      "cell_type": "code",
      "source": [
        "from sklearn.model_selection import train_test_split\n",
        "\n",
        "# Splitting data into train and validation sets\n",
        "train_split, valid = train_test_split(train, train_size = 0.8)\n",
        "train_y =  train_split[\"Selling_Price\"]\n",
        "train_x = train_split.loc[:, train_split.columns != 'Selling_Price']\n",
        "valid_y =  valid[\"Selling_Price\"]\n",
        "valid_x = valid.loc[:, valid.columns != 'Selling_Price']"
      ],
      "metadata": {
        "id": "bP9ZsSklVD5F"
      },
      "execution_count": null,
      "outputs": []
    },
    {
      "cell_type": "markdown",
      "source": [
        "### Fit the model"
      ],
      "metadata": {
        "id": "gBrb-SoA_f5N"
      }
    },
    {
      "cell_type": "code",
      "source": [
        "from sklearn.linear_model import LinearRegression\n",
        "\n",
        "lm=LinearRegression()\n",
        "lm.fit(train_x,train_y)\n",
        "\n",
        "print(\"Intercept:\", lm.intercept_)\n",
        "\n",
        "lr_coefficients = list(zip(train.loc[:, train.columns != 'Selling_Price'].columns,lm.coef_))\n",
        "print(\"\\nNumber of coefficients:\",len(lr_coefficients))\n",
        "print(\"\\nFeature coefficients:\",*lr_coefficients, sep='\\n')"
      ],
      "metadata": {
        "colab": {
          "base_uri": "https://localhost:8080/"
        },
        "id": "DDus-t2pVW-_",
        "outputId": "5a811a29-f974-45a2-d45e-3a5519248d51"
      },
      "execution_count": null,
      "outputs": [
        {
          "output_type": "stream",
          "name": "stdout",
          "text": [
            "Intercept: 728.1768816272529\n",
            "\n",
            "Number of coefficients: 20\n",
            "\n",
            "Feature coefficients:\n",
            "('Market_Category', 0.015733333056450284)\n",
            "('Demand', -0.5663892560760319)\n",
            "('Discount_avail', -4441.840281091665)\n",
            "('charges_1', 0.8920797565857775)\n",
            "('charges_2 (%)', 0.0031153193009197514)\n",
            "('Minimum_price', 0.4560964974234054)\n",
            "('Maximum_price', 0.4196419133377333)\n",
            "('Grade_1', 9.44469326010668)\n",
            "('Grade_2', 63.5945968177931)\n",
            "('Grade_3', 71.06532802138415)\n",
            "('Product_Category_Cosmetics', -61.550566710073525)\n",
            "('Product_Category_Educational', -38.002060549909004)\n",
            "('Product_Category_Fashion', 24.401428654634238)\n",
            "('Product_Category_Home_decor', -34.91271951611848)\n",
            "('Product_Category_Hospitality', -99.31529300375846)\n",
            "('Product_Category_Organic', -49.479332560811464)\n",
            "('Product_Category_Pet_care', -29.511813752410774)\n",
            "('Product_Category_Repair', -5.013963059246998)\n",
            "('Product_Category_Technology', -1.0414526184454926)\n",
            "('Loyalty_customer_Yes', -35.51567732125817)\n"
          ]
        }
      ]
    },
    {
      "cell_type": "code",
      "source": [
        "lr_predicted_train=abs(lm.predict(train_x))\n",
        "lr_predicted_valid=abs(lm.predict(valid_x))"
      ],
      "metadata": {
        "id": "Balz7x52ZH5q"
      },
      "execution_count": null,
      "outputs": []
    },
    {
      "cell_type": "code",
      "source": [
        "from sklearn.metrics import mean_absolute_error\n",
        "import numpy as np\n",
        "\n",
        "\n",
        "rmse1 = np.sqrt(mean_absolute_error(train_y, lr_predicted_train))\n",
        "rmse2 = np.sqrt(mean_absolute_error(valid_y, lr_predicted_valid))\n",
        "print(\"train_rmse =\", rmse1)\n",
        "print(\"valid_rmse =\", rmse2)"
      ],
      "metadata": {
        "colab": {
          "base_uri": "https://localhost:8080/"
        },
        "id": "4c7L2FM0ZKit",
        "outputId": "8b776ee6-abfe-4839-a3be-7b5ad4bfe7a6"
      },
      "execution_count": null,
      "outputs": [
        {
          "output_type": "stream",
          "name": "stdout",
          "text": [
            "train_rmse = 20.193060897626864\n",
            "valid_rmse = 20.1343148944008\n"
          ]
        }
      ]
    },
    {
      "cell_type": "code",
      "source": [
        "from sklearn.metrics import mean_squared_log_error\n",
        "\n",
        "\n",
        "RMSLE = np.sqrt(mean_squared_log_error(train_y,lr_predicted_train))\n",
        "score1 = max(0,100 - RMSLE)\n",
        "print(\"train_score =\", score1)\n",
        "RMSLE = np.sqrt(mean_squared_log_error(valid_y,lr_predicted_valid))\n",
        "score2 = max(0,100 - RMSLE)\n",
        "print(\"valid_score =\", score2)"
      ],
      "metadata": {
        "colab": {
          "base_uri": "https://localhost:8080/"
        },
        "id": "T5TQp4CkZPTw",
        "outputId": "6157cbae-435b-419f-f272-a4d5cf1c3e20"
      },
      "execution_count": null,
      "outputs": [
        {
          "output_type": "stream",
          "name": "stdout",
          "text": [
            "train_score = 99.50886755823052\n",
            "valid_score = 99.54045613215602\n"
          ]
        }
      ]
    },
    {
      "cell_type": "markdown",
      "source": [
        "## Ridge regression"
      ],
      "metadata": {
        "id": "LxZJTIgT9Mcu"
      }
    },
    {
      "cell_type": "code",
      "source": [
        "from sklearn.linear_model import Ridge,Lasso\n",
        "from sklearn.model_selection import GridSearchCV\n",
        "\n",
        "\n",
        "lambdas=np.linspace(0.1,10,100)\n",
        "params={'alpha':lambdas}\n",
        "\n",
        "model=Ridge(fit_intercept=True)\n",
        "grid_search=GridSearchCV(model,param_grid=params,cv=10,scoring='neg_mean_absolute_error')\n",
        "grid_search.fit(train_x, train_y)\n",
        "model = grid_search.best_estimator_\n",
        "\n",
        "rg_predicted_train = abs(model.predict(train_x))\n",
        "rg_predicted_valid = abs(model.predict(valid_x))"
      ],
      "metadata": {
        "id": "bOrUmxSP9UIz"
      },
      "execution_count": null,
      "outputs": []
    },
    {
      "cell_type": "code",
      "source": [
        "ridge_coefficients = list(zip(train.loc[:, train.columns != 'Selling_Price'].columns,model.coef_))\n",
        "print(\"\\nNumber of coefficients:\",len(ridge_coefficients))\n",
        "print(\"\\nFeature coefficients:\",*ridge_coefficients, sep='\\n')"
      ],
      "metadata": {
        "colab": {
          "base_uri": "https://localhost:8080/"
        },
        "id": "zcpnxIvS9ciR",
        "outputId": "45e3a59b-1efe-4d27-e27c-4b733defa56b"
      },
      "execution_count": null,
      "outputs": [
        {
          "output_type": "stream",
          "name": "stdout",
          "text": [
            "\n",
            "Number of coefficients: 20\n",
            "\n",
            "Feature coefficients:\n",
            "('Market_Category', 0.014963775916232469)\n",
            "('Demand', -0.5600243114703553)\n",
            "('Discount_avail', -4362.7650019811945)\n",
            "('charges_1', 0.9318538699448187)\n",
            "('charges_2 (%)', -0.1622791690611319)\n",
            "('Minimum_price', 0.45577615080532174)\n",
            "('Maximum_price', 0.41975624539269113)\n",
            "('Grade_1', 11.180879015513383)\n",
            "('Grade_2', 61.47799878233105)\n",
            "('Grade_3', 72.88784027235518)\n",
            "('Product_Category_Cosmetics', -54.205106180527665)\n",
            "('Product_Category_Educational', -25.071985879670486)\n",
            "('Product_Category_Fashion', 28.470946886942514)\n",
            "('Product_Category_Home_decor', -26.85761342821496)\n",
            "('Product_Category_Hospitality', -91.47659145240402)\n",
            "('Product_Category_Organic', -37.68631857503363)\n",
            "('Product_Category_Pet_care', -16.850157258135)\n",
            "('Product_Category_Repair', 2.0699983031733815)\n",
            "('Product_Category_Technology', -3.6015182380219195)\n",
            "('Loyalty_customer_Yes', -33.61573829361341)\n"
          ]
        }
      ]
    },
    {
      "cell_type": "code",
      "source": [
        "rmse1 = np.sqrt(mean_absolute_error(train_y, rg_predicted_train))\n",
        "rmse2 = np.sqrt(mean_absolute_error(valid_y, rg_predicted_valid))\n",
        "print(\"train_rmse =\", rmse1)\n",
        "print(\"valid_rmse =\", rmse2)"
      ],
      "metadata": {
        "colab": {
          "base_uri": "https://localhost:8080/"
        },
        "id": "la2Rkggj9gBf",
        "outputId": "ab96c96b-f091-468e-e128-6dc80dfb5256"
      },
      "execution_count": null,
      "outputs": [
        {
          "output_type": "stream",
          "name": "stdout",
          "text": [
            "train_rmse = 20.183748079880285\n",
            "valid_rmse = 20.114374714799364\n"
          ]
        }
      ]
    },
    {
      "cell_type": "code",
      "source": [
        "RMSLE = np.sqrt(mean_squared_log_error(train_y,rg_predicted_train))\n",
        "score1 = max(0,100 - RMSLE)\n",
        "print(\"train_score =\", score1)\n",
        "RMSLE = np.sqrt(mean_squared_log_error(valid_y,rg_predicted_valid))\n",
        "score2 = max(0,100 - RMSLE)\n",
        "print(\"valid_score =\", score2)"
      ],
      "metadata": {
        "colab": {
          "base_uri": "https://localhost:8080/"
        },
        "id": "rDdFNiit9jAA",
        "outputId": "bd8c7bd9-bb44-4c4d-b01b-746f5090d12b"
      },
      "execution_count": null,
      "outputs": [
        {
          "output_type": "stream",
          "name": "stdout",
          "text": [
            "train_score = 99.50936464919786\n",
            "valid_score = 99.50281927859962\n"
          ]
        }
      ]
    },
    {
      "cell_type": "markdown",
      "source": [
        "# Random Forest"
      ],
      "metadata": {
        "id": "WEs11XU4JfdM"
      }
    },
    {
      "cell_type": "code",
      "source": [
        "from sklearn.ensemble import RandomForestRegressor\n",
        "from sklearn.model_selection import GridSearchCV\n",
        "\n",
        "model=RandomForestRegressor(n_jobs=10, n_estimators = 45, min_samples_split=5)\n",
        "params = {\"n_estimators\": [500], \"min_samples_split\": [100], \"max_leaf_nodes\": [150, 170, 200]}\n",
        "\n",
        "# grid_search=GridSearchCV(model, param_grid =params,cv=15,scoring='neg_mean_absolute_error')\n",
        "model.fit(train_x, train_y)\n",
        "# model = grid_search.best_estimator_\n",
        "\n",
        "rf_predicted_train = model.predict(train_x)\n",
        "rf_predicted_valid = model.predict(valid_x)\n"
      ],
      "metadata": {
        "id": "qBVvETd-Jhn7"
      },
      "execution_count": null,
      "outputs": []
    },
    {
      "cell_type": "code",
      "source": [
        "from sklearn.metrics import mean_absolute_error\n",
        "import numpy as np\n",
        "\n",
        "rmse1 = np.sqrt(mean_absolute_error(train_y, rf_predicted_train))\n",
        "rmse2 = np.sqrt(mean_absolute_error(valid_y, rf_predicted_valid))\n",
        "print(\"train_rmse =\", rmse1)\n",
        "print(\"valid_rmse =\", rmse2)"
      ],
      "metadata": {
        "colab": {
          "base_uri": "https://localhost:8080/"
        },
        "id": "jPuni1HKKJoA",
        "outputId": "f4398554-a4cf-4e7f-aad9-1bdf3640794f"
      },
      "execution_count": null,
      "outputs": [
        {
          "output_type": "stream",
          "name": "stdout",
          "text": [
            "train_rmse = 5.548708209440894\n",
            "valid_rmse = 7.987653029356898\n"
          ]
        }
      ]
    },
    {
      "cell_type": "code",
      "source": [
        "RMSLE = np.sqrt(mean_squared_log_error(train_y,rf_predicted_train))\n",
        "score1 = max(0,100 - RMSLE)\n",
        "print(\"train_score =\", score1)\n",
        "RMSLE = np.sqrt(mean_squared_log_error(valid_y,rf_predicted_valid))\n",
        "score2 = max(0,100 - RMSLE)\n",
        "print(\"valid_score =\", score2)"
      ],
      "metadata": {
        "colab": {
          "base_uri": "https://localhost:8080/"
        },
        "id": "0ugWYxnfKMPL",
        "outputId": "4292a6b2-f43a-4e0b-c9dd-8b7a4b0253c5"
      },
      "execution_count": null,
      "outputs": [
        {
          "output_type": "stream",
          "name": "stdout",
          "text": [
            "train_score = 99.9332733334639\n",
            "valid_score = 99.96906245228196\n"
          ]
        }
      ]
    },
    {
      "cell_type": "markdown",
      "source": [
        "# Predictions on test set"
      ],
      "metadata": {
        "id": "ht0K-l41Mpqt"
      }
    },
    {
      "cell_type": "code",
      "source": [
        "columns = [\"Stall_no\", \"Product_id\", \"instock_date\",  \"Customer_name\"]\n",
        "test_x = test.drop(columns=columns)\n"
      ],
      "metadata": {
        "id": "u0fZCYBjMsbK"
      },
      "execution_count": null,
      "outputs": []
    },
    {
      "cell_type": "code",
      "source": [
        "for col in test_x.columns:\n",
        "    if (test_x[col].isnull().sum()>0):\n",
        "        test_x.loc[test_x[col].isnull(),col]=train[col].mean()"
      ],
      "metadata": {
        "id": "7NPzQTR1NqlO"
      },
      "execution_count": null,
      "outputs": []
    },
    {
      "cell_type": "code",
      "source": [
        "test_predicted = model.predict(test_x)\n",
        "for i in range(len(test_predicted)):\n",
        "    if test_predicted[i] < 0:\n",
        "        test_predicted[i] = 0.0\n",
        "\n",
        "test_predicted_id = pd.DataFrame(data = test.Product_id)\n",
        "\n",
        "test_predicted_id[\"Selling_Price\"] = test_predicted\n",
        "\n",
        "test_predicted_id.to_csv(\"submission.csv\", index = False)"
      ],
      "metadata": {
        "id": "231H8NnbNgf2"
      },
      "execution_count": null,
      "outputs": []
    }
  ]
}